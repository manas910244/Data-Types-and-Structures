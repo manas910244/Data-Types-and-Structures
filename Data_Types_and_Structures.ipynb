{
  "nbformat": 4,
  "nbformat_minor": 0,
  "metadata": {
    "colab": {
      "provenance": []
    },
    "kernelspec": {
      "name": "python3",
      "display_name": "Python 3"
    },
    "language_info": {
      "name": "python"
    }
  },
  "cells": [
    {
      "cell_type": "code",
      "execution_count": null,
      "metadata": {
        "id": "02c8me2nVsAb"
      },
      "outputs": [],
      "source": []
    },
    {
      "cell_type": "markdown",
      "source": [
        "##Data Typea and Structures"
      ],
      "metadata": {
        "id": "GVxf5bsAbKur"
      }
    },
    {
      "cell_type": "code",
      "source": [],
      "metadata": {
        "id": "KlSzRVIamvg0"
      },
      "execution_count": null,
      "outputs": []
    },
    {
      "cell_type": "markdown",
      "source": [
        "#1- What are data structures, and why are they important?\n",
        "- Data structures are ways to organize, store, and manage data in a computer so that it can be efficiently accessed, modified, and manipulated. They provide a framework for storing and retrieving data, allowing you to perform operations like sorting, searching, inserting, and deleting data.\n",
        " They are importan because-\n",
        "1. Efficient Data Management: Data structures help manage data efficiently, reducing storage requirements and improving data retrieval times.\n",
        "2. Improved Algorithm Performance: Choosing the right data structure can significantly impact the performance of algorithms, making them faster and more efficient.\n",
        "3. Simplified Code: Data structures provide a standardized way of organizing data, making code easier to write, read, and maintain.\n",
        "4. Real-World Applications: Data structures are used in various real-world applications, such as databases, file systems, web browsers, and social media platforms.\n",
        "5. Problem-Solving: Understanding data structures helps develop problem-solving skills, as you learn to analyze problems and choose the most suitable data structure to solve them.\n",
        "\n",
        "#2-Explain the difference between mutable and immutable data types with examples?\n",
        "-Mutable data types are mathematical objects that can be modified or changed after they are created. In theoretical computer science, mutable data types are often modeled using mathematical structures such as:\n",
        "\n",
        "1 Pointers: Pointers are mathematical objects that reference locations in memory. Mutable data types can be modified by updating the values stored at these locations.\n",
        "2 References: References are mathematical objects that alias existing values. Mutable data types can be modified by updating the values referenced by these aliases.\n",
        "3 Mutable Sets: Mutable sets are mathematical structures that can be modified by adding or removing elements.\n",
        "-Immutable data types are mathematical objects that cannot be modified or changed after they are created. In theoretical computer science, immutable data types are often modeled using mathematical structures such as:\n",
        "\n",
        "1 Inductive Types: Inductive types are mathematical structures that are defined recursively. Immutable data types can be represented using inductive types, which ensure that the data type cannot be modified.\n",
        "2 Functional Data Structures: Functional data structures are mathematical structures that are designed to be immutable. Examples include immutable lists, trees, and graphs.\n",
        "3.Abstract Data Types: Abstract data types are mathematical structures that define a data type's behavior without specifying its implementation. Immutable data types can be represented using abstract data types, which ensure that the data type cannot be modified.\n",
        "\n",
        "\n",
        "\n",
        "\n"
      ],
      "metadata": {
        "id": "gI_Q04pEbXmH"
      }
    },
    {
      "cell_type": "code",
      "source": [
        "my_list = [1, 2, 3]\n",
        "my_list[0] = 10\n",
        "print(my_list)"
      ],
      "metadata": {
        "colab": {
          "base_uri": "https://localhost:8080/"
        },
        "id": "gyn7S7G0hu7_",
        "outputId": "9d35026b-023f-4cac-940a-14d577519aae"
      },
      "execution_count": null,
      "outputs": [
        {
          "output_type": "stream",
          "name": "stdout",
          "text": [
            "[10, 2, 3]\n"
          ]
        }
      ]
    },
    {
      "cell_type": "code",
      "source": [
        "my_dict = {\"name\": \"manas\" , \"age\": 26}\n",
        "my_dict[\"age\"] = 26\n",
        "print(my_dict)"
      ],
      "metadata": {
        "colab": {
          "base_uri": "https://localhost:8080/"
        },
        "id": "B85jNJxyiMvI",
        "outputId": "744926d1-9f12-40d0-efe4-045ea05da73b"
      },
      "execution_count": null,
      "outputs": [
        {
          "output_type": "stream",
          "name": "stdout",
          "text": [
            "{'name': 'manas', 'age': 26}\n"
          ]
        }
      ]
    },
    {
      "cell_type": "code",
      "source": [
        "my_set = {1, 2, 3}\n",
        "my_set.add(\"5\")\n",
        "print(my_set)\n",
        "\n",
        "\n"
      ],
      "metadata": {
        "colab": {
          "base_uri": "https://localhost:8080/"
        },
        "id": "1924QFm7kn9I",
        "outputId": "b0e3c5da-41fa-4fec-bcd1-fb0a514a3eee"
      },
      "execution_count": null,
      "outputs": [
        {
          "output_type": "stream",
          "name": "stdout",
          "text": [
            "{1, 2, 3, '5'}\n"
          ]
        }
      ]
    },
    {
      "cell_type": "markdown",
      "source": [
        "#3-What are the main differences between lists and tuples in Python?\n",
        "- In Python, lists and tuples are two fundamental data structures that can store multiple values. While they share some similarities, there are key differences between them.\n",
        "\n",
        "Similarities\n",
        "1. Both are ordered collections: Both lists and tuples maintain the order in which elements were added.\n",
        "2. Both can store multiple data types: Both lists and tuples can store a mix of data types, such as integers, floats, strings, and other lists or tuples.\n",
        "3. Both support indexing and slicing: Both lists and tuples support indexing (accessing individual elements) and slicing (extracting subsets of elements).\n",
        "\n",
        "Differences\n",
        "1. Immutability: Tuples are immutable, meaning their contents cannot be modified after creation. Lists are mutable, meaning their contents can be modified after creation.\n",
        "2. Syntax: Tuples use parentheses () to enclose elements, while lists use square brackets [].\n",
        "3. Performance: Tuples are generally faster and more memory-efficient than lists, especially for large datasets.\n",
        "4. Use cases: Tuples are often used for data that shouldn't be changed, such as coordinates or dates. Lists are often used for data that needs to be modified, such as user input or dynamic data.\n"
      ],
      "metadata": {
        "id": "U4unxxoQnT8m"
      }
    },
    {
      "cell_type": "markdown",
      "source": [
        "#4-Describe how dictionaries store data?\n",
        "Dictionaries, also known as associative arrays or hash tables, are unordered collections of key-value pairs. They store data in a way that allows for efficient lookup, insertion, and deletion of elements.\n",
        "Dictionaries store data in the following way:\n",
        "\n",
        "1. Keys: Dictionaries use unique keys to identify each element. Keys can be any immutable type, such as strings, integers, or tuples.\n",
        "2. Values: Each key is associated with a value, which can be any type of object, including mutable types like lists or dictionaries.\n",
        "3. Hash Table: Dictionaries use a hash table to store the key-value pairs. The hash table is an array of slots, each of which can hold a key-value pair.\n",
        "4. Hash Function: When a key-value pair is added to the dictionary, the key is passed through a hash function, which generates an index into the hash table.\n",
        "5. Collision Resolution: If two keys hash to the same index, a collision occurs. Dictionaries use techniques like chaining or open addressing to resolve collisions.\n",
        "\n"
      ],
      "metadata": {
        "id": "8kQhNQUrn448"
      }
    },
    {
      "cell_type": "markdown",
      "source": [
        "#5- Why might you use a set instead of a list in Python?\n",
        "-In Python, sets and lists are both data structures that can store multiple values. However, they have different characteristics that make sets more suitable for certain use cases.\n",
        "\n",
        "1. Uniqueness of Elements\n",
        "Sets automatically eliminate duplicate values, ensuring that each element is unique. Lists, on the other hand, allow duplicate values.\n",
        "\n",
        "2. Faster Membership Testing\n",
        "Checking if an element is present in a set is much faster than in a list, especially for large datasets. This is because sets use a hash table for lookup, whereas lists require a linear search.\n",
        "\n",
        "3. Efficient Union, Intersection, and Difference Operations\n",
        "Sets provide built-in support for mathematical operations like union, intersection, and difference. These operations are optimized for performance and are often more convenient than implementing them manually with lists.\n",
        "\n",
        "4. Improved Code Readability\n",
        "Using a set can make your code more readable by explicitly conveying that the collection contains unique elements.\n"
      ],
      "metadata": {
        "id": "v_IuF_SSu_QE"
      }
    },
    {
      "cell_type": "markdown",
      "source": [
        "#6-What is a string in Python, and how is it different from a list?\n",
        "- In Python, a string is a sequence of characters, such as letters, numbers, or symbols. It's a fundamental data type in Python and is used to represent text.\n",
        "\n",
        "Key Characteristics of Strings\n",
        "Here are some key characteristics of strings:\n",
        "\n",
        "1. Immutable: Strings are immutable, meaning their contents cannot be modified after creation.\n",
        "2. Ordered: Strings are ordered, meaning the characters in the string have a specific sequence.\n",
        "3. Indexable: Strings are indexable, meaning each character can be accessed using its index (position in the sequence).\n",
        "-While both strings and lists are sequences, there are significant differences:\n",
        "\n",
        "1. Immutability: Strings are immutable, whereas lists are mutable.\n",
        "2. Element Type: Strings can only contain characters, whereas lists can contain any data type.\n",
        "3. Syntax: Strings are defined using quotes (single or double), whereas lists are defined using square brackets [].\n",
        "4. Methods: Strings have methods specific to text manipulation, such as upper(), lower(), and split(). Lists have methods like append(), insert(), and sort().\n",
        "\n"
      ],
      "metadata": {
        "id": "ryxNf4Mxy5ik"
      }
    },
    {
      "cell_type": "markdown",
      "source": [
        "#7-How do tuples ensure data integrity in Python?\n",
        "-Tuples ensure data integrity in Python through their immutable nature. Here are the ways tuples guarantee data integrity:\n",
        "\n",
        "Immutability\n",
        "Tuples are immutable, meaning their contents cannot be modified after creation.\n"
      ],
      "metadata": {
        "id": "8nF_gGAh0aNm"
      }
    },
    {
      "cell_type": "markdown",
      "source": [
        "#8-What is a hash table, and how does it relate to dictionaries in Python?\n",
        "-A hash table is a fundamental data structure that stores key-value pairs in a way that allows for efficient lookup, insertion, and deletion of elements. In Python, dictionaries are implemented using hash tables.\n",
        "Here's a simplified overview of how hash tables work:\n",
        "\n",
        "1. Keys and Values: A hash table stores key-value pairs, where each key is unique and maps to a specific value.\n",
        "2. Hash Function: When a key-value pair is added to the hash table, the key is passed through a hash function, which generates an index (or hash code) based on the key's value.\n",
        "3. Indexing: The index generated by the hash function is used to store the key-value pair in an array (or table).\n",
        "4. Collision Resolution: When two keys hash to the same index (a collision), the hash table uses a collision resolution technique, such as chaining or open addressing, to store both key-value pairs.\n",
        "\n",
        "Dictionaries in Python\n",
        "In Python, dictionaries are implemented using hash tables. When you create a dictionary, Python allocates memory for a hash table, which stores the key-value pairs.\n",
        "\n"
      ],
      "metadata": {
        "id": "yw7Xqm8_Kb6H"
      }
    },
    {
      "cell_type": "markdown",
      "source": [
        "#9-Can lists contain different data types in Python?\n",
        " -Python lists are heterogeneous, meaning they can store elements of different data types, including:\n",
        "\n",
        "1. Integers: Whole numbers, e.g., 1, 2, 3, etc.\n",
        "2. Floats: Decimal numbers, e.g., 3.14, -0.5, etc.\n",
        "3. Strings: Sequences of characters, e.g., \"hello\", 'hello', etc.\n",
        "4. Boolean: Boolean values, e.g., True, False.\n",
        "5. Lists: Nested lists, e.g., [1, 2, [3, 4]].\n",
        "6. Tuples: Tuples, e.g., (1, 2, 3).\n",
        "7. Dictionaries: Dictionaries, e.g., {\"name\": \"John\", \"age\": 30}.\n",
        "\n"
      ],
      "metadata": {
        "id": "R431SYi7jUyz"
      }
    },
    {
      "cell_type": "markdown",
      "source": [
        "#10- P Explain why strings are immutable in Python?\n",
        "- In Python, strings are immutable, meaning once a string is created, it cannot be changed. This immutability is due to several important reasons.\n",
        "1. Security\n",
        "Immutable strings prevent unintended changes to sensitive data, such as passwords or cryptographic keys.\n",
        "\n",
        "2. Thread Safety\n",
        "Immutable strings are thread-safe, allowing multiple threads to access the same string without fear of modifying its contents.\n",
        "\n",
        "3. Hashability\n",
        "Immutable strings can be used as dictionary keys, which requires hashability. If strings were mutable, their hash values would change when modified.\n",
        "\n",
        "4. Performance\n",
        "Immutable strings enable efficient caching and interning. When multiple identical strings are created, Python can store only one copy in memory.\n",
        "\n"
      ],
      "metadata": {
        "id": "Xcpu15mRkSSu"
      }
    },
    {
      "cell_type": "markdown",
      "source": [
        "#11- What advantages do dictionaries offer over lists for certain tasks?\n",
        "-Dictionaries offer several advantages over lists for certain tasks:\n",
        "\n",
        "1. Fast Lookups\n",
        "Dictionaries provide fast lookups, with an average time complexity of O(1), making them ideal for tasks that require frequent lookups.\n",
        "\n",
        "2. Key-Value Association\n",
        "Dictionaries allow for key-value association, enabling you to store and retrieve data using meaningful keys rather than indices.\n",
        "\n",
        "3. Efficient Data Retrieval\n",
        "Dictionaries enable efficient data retrieval, as you can access values directly using their corresponding keys.\n",
        "\n",
        "4. Flexible Data Structure\n",
        "Dictionaries are a flexible data structure, allowing you to store a variety of data types, including strings, integers, floats, and other dictionaries.\n",
        "\n",
        "5. Easy Data Manipulation\n",
        "Dictionaries provide easy data manipulation, as you can add, remove, and modify key-value pairs using simple syntax.\n",
        "\n"
      ],
      "metadata": {
        "id": "thPLkSBzmFAf"
      }
    },
    {
      "cell_type": "markdown",
      "source": [
        "#12-  Describe a scenario where using a tuple would be preferable over a list?\n",
        "- Suppose you need to represent a date in your Python program. A date consists of three components: year, month, and day. You want to store these components in a single data structure.\n",
        "\n",
        "Why Tuples are Preferable\n",
        "In this scenario, using a tuple would be preferable over a list for several reasons:\n",
        "\n",
        "1. Immutability: Dates are immutable by nature. Once a date is set, its components shouldn't change. Tuples, being immutable, ensure that the date components remain unchanged.\n",
        "2. Structural Integrity: Tuples maintain their structural integrity. Since dates always consist of three components (year, month, and day), using a tuple ensures that this structure is preserved.\n",
        "3. Performance: Tuples are more memory-efficient than lists. Since dates are often used in large quantities (e.g., in a database), using tuples can help reduce memory usage.\n",
        "4. Code Readability: Tuples can improve code readability by clearly conveying that the data structure represents a single, immutable entity (in this case, a date).\n",
        "\n"
      ],
      "metadata": {
        "id": "CIsPazdznKjb"
      }
    },
    {
      "cell_type": "markdown",
      "source": [
        "#13-  How do sets handle duplicate values in Python?\n",
        "In Python, sets automatically remove duplicate values because they are unordered collections of unique elements. If you try to add a duplicate to a set, Python will simply ignore it.\n",
        "Sets have the following characteristics that enable duplicate elimination:\n",
        "\n",
        "1. Unordered: Sets are unordered collections, meaning the order of elements doesn't matter.\n",
        "2. Unique Elements: Sets only store unique elements, eliminating duplicates.\n",
        "3. Fast Membership Testing: Sets provide fast membership testing, allowing you to quickly check if an element is present in the set.\n",
        "\n",
        "\n"
      ],
      "metadata": {
        "id": "J_PxtPJbn8CX"
      }
    },
    {
      "cell_type": "markdown",
      "source": [
        "#14- How does the “in” keyword work differently for lists and dictionaries?\n",
        "-The in keyword works differently for lists and dictionaries in Python:\n",
        "\n",
        "Lists\n",
        "For lists, the in keyword checks if a value is present in the list. It iterates over the list elements and returns True if the value is found, and False otherwise.\n",
        "\n",
        "Dictionaries\n",
        "For dictionaries, the in keyword checks if a key is present in the dictionary. It does not check for values. It returns True if the key is found, and False otherwise.\n",
        "\n"
      ],
      "metadata": {
        "id": "ggfMmN3Bp8oB"
      }
    },
    {
      "cell_type": "code",
      "source": [
        "my_list = [10, 20, 30, 40]\n",
        "print(20 in my_list)  #  True\n",
        "print(50 in my_list)  #  False\n"
      ],
      "metadata": {
        "colab": {
          "base_uri": "https://localhost:8080/"
        },
        "id": "cSSfajyqryp_",
        "outputId": "11ec3e09-054b-48f9-cad5-f1de35361bb9"
      },
      "execution_count": null,
      "outputs": [
        {
          "output_type": "stream",
          "name": "stdout",
          "text": [
            "True\n",
            "False\n"
          ]
        }
      ]
    },
    {
      "cell_type": "code",
      "source": [
        "my_dict = {\"a\": 1, \"b\": 2, \"c\": 3}\n",
        "print(\"b\" in my_dict)  #  True (checks for keys, NOT values)\n",
        "print(2 in my_dict)    #  False (2 is a value, not a key)\n"
      ],
      "metadata": {
        "colab": {
          "base_uri": "https://localhost:8080/"
        },
        "id": "GujGAMFcr_Fo",
        "outputId": "a69a0f9a-9916-47ad-f9f6-fcb496fdd1dc"
      },
      "execution_count": null,
      "outputs": [
        {
          "output_type": "stream",
          "name": "stdout",
          "text": [
            "True\n",
            "False\n"
          ]
        }
      ]
    },
    {
      "cell_type": "markdown",
      "source": [
        "#15- Can you modify the elements of a tuple? Explain why or why not\n",
        "- No, you cannot modify elements of a tuple in Python because tuples are immutable.\n",
        "Tuples are immutable for several reasons:\n",
        "\n",
        "1. Security: Immutability ensures that sensitive data stored in tuples remains unchanged.\n",
        "2. Thread Safety: Immutable tuples can be safely accessed and shared between multiple threads without fear of modification.\n",
        "3. Hashability: Immutable tuples can be used as dictionary keys, which requires hashability.\n",
        "4. Performance: Immutability allows for efficient caching and interning of tuples.\n",
        "\n",
        "\n"
      ],
      "metadata": {
        "id": "NswNuWLos3hX"
      }
    },
    {
      "cell_type": "markdown",
      "source": [
        "#16- What is a nested dictionary, and give an example of its use case\n",
        "-A nested dictionary is a dictionary that contains another dictionary as a value. This allows you to store structured, hierarchical data efficiently.\n",
        "\n"
      ],
      "metadata": {
        "id": "JWvPP_5Wxak7"
      }
    },
    {
      "cell_type": "code",
      "source": [
        "students = { \"Alice\": {\"age\": 22, \"major\": \"Computer Science\", \"GPA\": 3.8},\n",
        "    \"Bob\": {\"age\": 21, \"major\": \"Mechanical Engineering\", \"GPA\": 3.5},\n",
        "    \"Charlie\": {\"age\": 23, \"major\": \"Business\", \"GPA\": 3.9}}\n",
        "print(students[\"Bob\"][\"major\"]) #Here, students is a nested dictionary where each student's name is a key, and the value is another dictionary containing their age, major, and GPA.\n"
      ],
      "metadata": {
        "colab": {
          "base_uri": "https://localhost:8080/"
        },
        "id": "m1Ct-Bnfy-n3",
        "outputId": "0c592fd2-3252-42cc-adf8-4b0f8dd68b62"
      },
      "execution_count": null,
      "outputs": [
        {
          "output_type": "stream",
          "name": "stdout",
          "text": [
            "Mechanical Engineering\n"
          ]
        }
      ]
    },
    {
      "cell_type": "code",
      "source": [
        "company = {\n",
        "    \"HR\": {\n",
        "        \"John Doe\": {\"age\": 30, \"position\": \"Manager\", \"salary\": 60000},\n",
        "        \"Jane Smith\": {\"age\": 28, \"position\": \"Recruiter\", \"salary\": 50000}\n",
        "    },\n",
        "    \"IT\": {\n",
        "        \"Mike Johnson\": {\"age\": 35, \"position\": \"Software Engineer\", \"salary\": 80000},\n",
        "        \"Sara Davis\": {\"age\": 32, \"position\": \"Data Scientist\", \"salary\": 90000}\n",
        "    }\n",
        "}\n",
        "\n",
        "# Access Sara's salary\n",
        "print(company[\"IT\"][\"Sara Davis\"][\"salary\"])\n"
      ],
      "metadata": {
        "colab": {
          "base_uri": "https://localhost:8080/"
        },
        "id": "oUGasKQz0U8C",
        "outputId": "e718a48a-9f5e-4295-e756-f8456fc00014"
      },
      "execution_count": null,
      "outputs": [
        {
          "output_type": "stream",
          "name": "stdout",
          "text": [
            "90000\n"
          ]
        }
      ]
    },
    {
      "cell_type": "markdown",
      "source": [
        "#17- Describe the time complexity of accessing elements in a dictionary?\n",
        "-In Python, dictionaries are implemented using a hash table, which makes element access very fast. The average time complexity for accessing an element in a dictionary\n",
        "-Dictionaries use a hash function to map keys to indices of a backing array. When you access an element using its key, the dictionary:\n",
        "\n",
        "1. Hashes the key: The dictionary applies a hash function to the key, generating a hash code.\n",
        "2. Finds the index: The dictionary uses the hash code to determine the index of the backing array where the corresponding value is stored.\n",
        "3. Returns the value: The dictionary returns the value stored at the calculated index.\n",
        "4.Most of the time, accessing a dictionary element is O(1), making it much faster than searching in a list (O(n)).\n",
        "5. In rare cases, due to hash collisions or resizing, it could degrade to O(n), but Python optimizes its hash table to keep this minimal"
      ],
      "metadata": {
        "id": "7sNdXTlYHSU8"
      }
    },
    {
      "cell_type": "markdown",
      "source": [
        "#18-In what situations are lists preferred over dictionaries?\n",
        "-1. Ordered Data\n",
        "When you need to store data in a specific order, lists are a better choice. Lists maintain the insertion order,).\n",
        "\n",
        "2. Indexed Access\n",
        "When you need to access elements by their index (position in the list), lists are more suitable. Lists support indexing, slicing, and other sequence operations.\n",
        "\n",
        "3. Dynamic Size\n",
        "When the size of the data structure needs to change dynamically, lists are more flexible. Lists can grow or shrink as elements are added or removed.\n",
        "\n",
        "4. Homogeneous Data\n",
        "When storing a collection of homogeneous data (i.e., data of the same type), lists are a better choice. Lists can store elements of any data type, including strings, integers, floats, and other lists.\n",
        "\n",
        "5. Sequential Processing\n",
        "When you need to process data sequentially, lists are more suitable. Lists support iteration, making it easy to process elements one by one.\n",
        "\n",
        "6. No Key-Value Association\n",
        "When there is no natural key-value association between data elements, lists are a better choice. Lists simply store elements without any inherent structure"
      ],
      "metadata": {
        "id": "l4MZNihAc95E"
      }
    },
    {
      "cell_type": "markdown",
      "source": [
        "#19-Why are dictionaries considered unordered, and how does that affect data retrieval\n",
        "- Dictionaries are considered unordered because:\n",
        "\n",
        "1. Hash Table Implementation\n",
        "Dictionaries are implemented as hash tables, which store key-value pairs in an array using a hash function. The hash function maps keys to indices of the array, but it does not preserve the order of insertion.\n",
        "\n",
        "2. Key-Value Association\n",
        "Dictionaries are designed for fast lookups, insertions, and deletions using keys. The order of keys is not relevant to the dictionary's primary function.\n",
        "\n",
        "3. Performance Optimization\n",
        "To optimize performance, dictionaries may reorder their internal data structure, which can lead to changes in the order of keys.\n",
        "\n",
        "Effects on Data Retrieval\n",
        "The unordered nature of dictionaries affects data retrieval in the following ways:\n",
        "\n",
        "1. No Guaranteed Order: When iterating over a dictionary, the order of keys is not guaranteed to be the same as the order of insertion.\n",
        "2. Randomized Order: In Python 3.x, dictionaries use a randomized hash function, which means that the order of keys can change between runs of the program.\n",
        "3. No Index-Based Access: Dictionaries do not support index-based access, as the order of keys is not fixed.\n",
        "\n"
      ],
      "metadata": {
        "id": "S4CQ9eZgi09Q"
      }
    },
    {
      "cell_type": "markdown",
      "source": [
        "#20-Explain the difference between a list and a dictionary in terms of data retrieval.\n",
        "-Here's a comparison of lists and dictionaries in terms of data retrieval:\n",
        "\n",
        "Lists\n",
        "1. Index-Based Access: Lists support index-based access, allowing you to retrieve elements using their index (position in the list).\n",
        "2. Sequential Access: Lists can be accessed sequentially using iteration (e.g., for loops) or slicing.\n",
        "3. Slow Lookup: Looking up a specific element in a list can be slow, especially for large lists, as it requires iterating over the elements until a match is found.\n",
        "\n",
        "Dictionaries\n",
        "1. Key-Based Access: Dictionaries support key-based access, allowing you to retrieve values using their corresponding keys.\n",
        "2. Fast Lookup: Dictionaries provide fast lookup, insertion, and deletion operations, with an average time complexity of O(1).\n",
        "3. No Index-Based Access: Dictionaries do not support index-based access, as the order of keys is not fixed.\n"
      ],
      "metadata": {
        "id": "KsxJVp37kJWQ"
      }
    },
    {
      "cell_type": "markdown",
      "source": [
        "##Practical Questions"
      ],
      "metadata": {
        "id": "_sMO0NLRmJh2"
      }
    },
    {
      "cell_type": "markdown",
      "source": [
        "#1-Write a code to create a string with your name and print it"
      ],
      "metadata": {
        "id": "bvWF3uewmWvR"
      }
    },
    {
      "cell_type": "code",
      "source": [
        "my_name = \"Manas\"\n",
        "print(my_name)\n"
      ],
      "metadata": {
        "colab": {
          "base_uri": "https://localhost:8080/"
        },
        "id": "27oI_z48miRJ",
        "outputId": "531fc4c9-639a-4dd3-c6ce-53f690dd4365"
      },
      "execution_count": null,
      "outputs": [
        {
          "output_type": "stream",
          "name": "stdout",
          "text": [
            "Manas\n"
          ]
        }
      ]
    },
    {
      "cell_type": "markdown",
      "source": [
        "2-Write a code to find the length of the string \"Hello World"
      ],
      "metadata": {
        "id": "-OLnaCsynYhd"
      }
    },
    {
      "cell_type": "code",
      "source": [
        "str1 = 'hello'\n",
        "str2 = 'world'\n",
        "print(str1 + str2)"
      ],
      "metadata": {
        "colab": {
          "base_uri": "https://localhost:8080/"
        },
        "id": "0OBSdk-qneWH",
        "outputId": "f90274fb-2aab-454f-dc47-bbfbc7f3984d"
      },
      "execution_count": null,
      "outputs": [
        {
          "output_type": "stream",
          "name": "stdout",
          "text": [
            "helloworld\n"
          ]
        }
      ]
    },
    {
      "cell_type": "markdown",
      "source": [
        "#3Write a code to slice the first 3 characters from the string \"Python Programming\n"
      ],
      "metadata": {
        "id": "wHig6FN0n-W2"
      }
    },
    {
      "cell_type": "code",
      "source": [
        "result = \" python programming \"\n",
        "print(result . upper())\n",
        "print(result . lower())\n",
        "print(result . strip())"
      ],
      "metadata": {
        "colab": {
          "base_uri": "https://localhost:8080/"
        },
        "id": "XxwUYTGQoHoo",
        "outputId": "72bc3596-4cd2-435d-aa3c-ab5bc640afbd"
      },
      "execution_count": null,
      "outputs": [
        {
          "output_type": "stream",
          "name": "stdout",
          "text": [
            " PYTHON PROGRAMMING \n",
            " python programming \n",
            "python programming\n"
          ]
        }
      ]
    },
    {
      "cell_type": "markdown",
      "source": [
        "#4-Write a code to convert the string \"hello\" to uppercase"
      ],
      "metadata": {
        "id": "sKP4RkwModb8"
      }
    },
    {
      "cell_type": "code",
      "source": [
        "str1 = 'hello'\n",
        "print(str1)"
      ],
      "metadata": {
        "colab": {
          "base_uri": "https://localhost:8080/"
        },
        "id": "TS1hY1Sroixf",
        "outputId": "735fc9cd-1d3d-4ed7-880c-d9c97f678df0"
      },
      "execution_count": null,
      "outputs": [
        {
          "output_type": "stream",
          "name": "stdout",
          "text": [
            "hello\n"
          ]
        }
      ]
    },
    {
      "cell_type": "markdown",
      "source": [
        "#5-Write a code to replace the word \"apple\" with \"orange\" in the string \"I like apple"
      ],
      "metadata": {
        "id": "2P_pQFbB4v-L"
      }
    },
    {
      "cell_type": "code",
      "source": [
        "str = \"I like apple\"\n",
        "new_str = str.replace(\"apple\", \"orange\")\n",
        "print(new_str)\n"
      ],
      "metadata": {
        "colab": {
          "base_uri": "https://localhost:8080/"
        },
        "id": "m5wSVY6D6dSs",
        "outputId": "87a618d6-2769-4c31-8d5f-22a1b2a3f220"
      },
      "execution_count": null,
      "outputs": [
        {
          "output_type": "stream",
          "name": "stdout",
          "text": [
            "I like orange\n"
          ]
        }
      ]
    },
    {
      "cell_type": "markdown",
      "source": [
        "#6-Write a code to create a list with numbers 1 to 5 and print it"
      ],
      "metadata": {
        "id": "fKBkg5co7Rbg"
      }
    },
    {
      "cell_type": "code",
      "source": [
        "list1 = [1, 2, 3, 4, 5]\n",
        "print(list1)"
      ],
      "metadata": {
        "colab": {
          "base_uri": "https://localhost:8080/"
        },
        "id": "6kJBVst57bTC",
        "outputId": "1fc64338-9f9f-46ab-db3d-974dad41a491"
      },
      "execution_count": null,
      "outputs": [
        {
          "output_type": "stream",
          "name": "stdout",
          "text": [
            "[1, 2, 3, 4, 5]\n"
          ]
        }
      ]
    },
    {
      "cell_type": "markdown",
      "source": [
        "#7-Write a code to append the number 10 to the list [1, 2, 3, 4]"
      ],
      "metadata": {
        "id": "2arsbhBP71C1"
      }
    },
    {
      "cell_type": "code",
      "source": [
        "list1 = [1, 2, 3, 4]\n",
        "list1.append(10)\n",
        "list1\n"
      ],
      "metadata": {
        "colab": {
          "base_uri": "https://localhost:8080/"
        },
        "id": "JbqVp063780m",
        "outputId": "7eb626f2-6105-4cc2-e65c-439e75826986"
      },
      "execution_count": null,
      "outputs": [
        {
          "output_type": "execute_result",
          "data": {
            "text/plain": [
              "[1, 2, 3, 4, 10]"
            ]
          },
          "metadata": {},
          "execution_count": 13
        }
      ]
    },
    {
      "cell_type": "markdown",
      "source": [
        "#8-Write a code to remove the number 3 from the list [1, 2, 3, 4, 5]"
      ],
      "metadata": {
        "id": "PBSgGE3R9Pmi"
      }
    },
    {
      "cell_type": "code",
      "source": [
        "list1 = [1, 2, 3, 4, 5]\n",
        "list1.remove(3)\n",
        "list1"
      ],
      "metadata": {
        "colab": {
          "base_uri": "https://localhost:8080/"
        },
        "id": "2EVGGdWr-Iyg",
        "outputId": "d1c54eb4-e0fb-4a7c-9136-da28981179ef"
      },
      "execution_count": null,
      "outputs": [
        {
          "output_type": "execute_result",
          "data": {
            "text/plain": [
              "[1, 2, 4, 5]"
            ]
          },
          "metadata": {},
          "execution_count": 17
        }
      ]
    },
    {
      "cell_type": "markdown",
      "source": [
        "#9- Write a code to access the second element in the list ['a', 'b', 'c', 'd']"
      ],
      "metadata": {
        "id": "X-tHSRDz-iSQ"
      }
    },
    {
      "cell_type": "code",
      "source": [
        "list1 = ['a', 'b', 'c', 'd']\n",
        "second_element = list1[1]\n",
        "print(second_element)"
      ],
      "metadata": {
        "colab": {
          "base_uri": "https://localhost:8080/"
        },
        "id": "V0BVa4Ma_0Fo",
        "outputId": "33c4dae8-f7d1-4a28-8c43-fef176e7367c"
      },
      "execution_count": null,
      "outputs": [
        {
          "output_type": "stream",
          "name": "stdout",
          "text": [
            "b\n"
          ]
        }
      ]
    },
    {
      "cell_type": "markdown",
      "source": [
        "#10- Write a code to reverse the list [10, 20, 30, 40, 50]."
      ],
      "metadata": {
        "id": "ab3hZ7X1AcfV"
      }
    },
    {
      "cell_type": "code",
      "source": [
        "list1 = [10, 20, 30, 40, 50]\n",
        "reversed_list = list1[::-1]\n",
        "print(reversed_list)"
      ],
      "metadata": {
        "colab": {
          "base_uri": "https://localhost:8080/"
        },
        "id": "UYzmlJcOAjSv",
        "outputId": "f770a359-3649-4225-f969-c408f0ae2262"
      },
      "execution_count": null,
      "outputs": [
        {
          "output_type": "stream",
          "name": "stdout",
          "text": [
            "[50, 40, 30, 20, 10]\n"
          ]
        }
      ]
    },
    {
      "cell_type": "markdown",
      "source": [
        "#11- Write a code to create a tuple with the elements 100, 200, 300 and print it."
      ],
      "metadata": {
        "id": "P9fAsArDAxWO"
      }
    },
    {
      "cell_type": "code",
      "source": [
        "my_tuple = (100, 200, 300)\n",
        "print(my_tuple)"
      ],
      "metadata": {
        "colab": {
          "base_uri": "https://localhost:8080/"
        },
        "id": "9xgoPw9LBu5A",
        "outputId": "85556abc-8738-4cff-cc81-ebb2a3848f3d"
      },
      "execution_count": null,
      "outputs": [
        {
          "output_type": "stream",
          "name": "stdout",
          "text": [
            "(100, 200, 300)\n"
          ]
        }
      ]
    },
    {
      "cell_type": "markdown",
      "source": [
        "#12-Write a code to access the second-to-last element of the tuple ('red', 'green', 'blue', 'yellow"
      ],
      "metadata": {
        "id": "WnQjf_yQCnAC"
      }
    },
    {
      "cell_type": "code",
      "source": [
        "my_tuple = ('red', 'green', 'blue', 'yellow')\n",
        "second_to_last = my_tuple[-2]\n",
        "print(second_to_last)"
      ],
      "metadata": {
        "colab": {
          "base_uri": "https://localhost:8080/"
        },
        "id": "K9Gu21eKCsC3",
        "outputId": "3a7ff184-093d-42aa-da3f-f6eccadda8aa"
      },
      "execution_count": null,
      "outputs": [
        {
          "output_type": "stream",
          "name": "stdout",
          "text": [
            "blue\n"
          ]
        }
      ]
    },
    {
      "cell_type": "markdown",
      "source": [
        "#13-Write a code to find the minimum number in the tuple (10, 20, 5, 15)."
      ],
      "metadata": {
        "id": "YZ03a-bAC1FZ"
      }
    },
    {
      "cell_type": "code",
      "source": [
        "my_tuple = (10, 20, 5, 15)\n",
        "min_number = min(my_tuple)\n",
        "print(min_number)"
      ],
      "metadata": {
        "colab": {
          "base_uri": "https://localhost:8080/"
        },
        "id": "eJkFGZT_DAFr",
        "outputId": "02c48591-2b36-4113-df54-8221a3cc8864"
      },
      "execution_count": null,
      "outputs": [
        {
          "output_type": "stream",
          "name": "stdout",
          "text": [
            "5\n"
          ]
        }
      ]
    },
    {
      "cell_type": "markdown",
      "source": [
        "#14-  Write a code to find the index of the element \"cat\" in the tuple ('dog', 'cat', 'rabbit')."
      ],
      "metadata": {
        "id": "NQPb_r49DZZc"
      }
    },
    {
      "cell_type": "code",
      "source": [
        "my_tuple = ('dog', 'cat', 'rabbit')\n",
        "index_of_cat = my_tuple.index(\"cat\")\n",
        "print(index_of_cat)"
      ],
      "metadata": {
        "colab": {
          "base_uri": "https://localhost:8080/"
        },
        "id": "6IFuEd6cEC0v",
        "outputId": "6833e5af-977c-4d68-c412-6870165507a9"
      },
      "execution_count": null,
      "outputs": [
        {
          "output_type": "stream",
          "name": "stdout",
          "text": [
            "1\n"
          ]
        }
      ]
    },
    {
      "cell_type": "markdown",
      "source": [
        "#15- Write a code to create a tuple containing three different fruits and check if \"kiwi\" is in it"
      ],
      "metadata": {
        "id": "DboFXmLYFtMD"
      }
    },
    {
      "cell_type": "code",
      "source": [
        "my_tuple = (\"apple\", \"banana\", \"cherry\")\n",
        "is_kiwi_present = \"kiwi\" in my_tuple\n",
        "print(is_kiwi_present)"
      ],
      "metadata": {
        "colab": {
          "base_uri": "https://localhost:8080/"
        },
        "id": "_588LHmaGVjw",
        "outputId": "021c4ac2-f79d-47c6-b1be-ad9342f6210e"
      },
      "execution_count": null,
      "outputs": [
        {
          "output_type": "stream",
          "name": "stdout",
          "text": [
            "False\n"
          ]
        }
      ]
    },
    {
      "cell_type": "markdown",
      "source": [
        "#16-Write a code to create a set with the elements 'a', 'b', 'c' and print it."
      ],
      "metadata": {
        "id": "Ust28QuTGkLi"
      }
    },
    {
      "cell_type": "code",
      "source": [
        "my_set = {'a', 'b', 'c'}\n",
        "print(my_set)"
      ],
      "metadata": {
        "colab": {
          "base_uri": "https://localhost:8080/"
        },
        "id": "6SmEJlybG-9I",
        "outputId": "d473cc42-eed3-4641-d2a2-33a01e20f49e"
      },
      "execution_count": null,
      "outputs": [
        {
          "output_type": "stream",
          "name": "stdout",
          "text": [
            "{'a', 'b', 'c'}\n"
          ]
        }
      ]
    },
    {
      "cell_type": "markdown",
      "source": [
        "#17- Write a code to clear all elements from the set {1, 2, 3, 4, 5}."
      ],
      "metadata": {
        "id": "7VcNs7KhHHPr"
      }
    },
    {
      "cell_type": "code",
      "source": [
        "my_set = {1, 2, 3, 4, 5}\n",
        "my_set.clear()\n",
        "print(my_set)"
      ],
      "metadata": {
        "colab": {
          "base_uri": "https://localhost:8080/"
        },
        "id": "WOlxEmj8HNKz",
        "outputId": "e6d6e3b9-b9e0-423f-e065-abf6b4d8c2b9"
      },
      "execution_count": null,
      "outputs": [
        {
          "output_type": "stream",
          "name": "stdout",
          "text": [
            "set()\n"
          ]
        }
      ]
    },
    {
      "cell_type": "markdown",
      "source": [
        "#18-Write a code to remove the element 4 from the set {1, 2, 3, 4}"
      ],
      "metadata": {
        "id": "mWZ-jYsVHtMH"
      }
    },
    {
      "cell_type": "code",
      "source": [
        "my_set = {1, 2, 3, 4}\n",
        "my_set.remove(4)\n",
        "print(my_set)"
      ],
      "metadata": {
        "colab": {
          "base_uri": "https://localhost:8080/"
        },
        "id": "wDtC_c0jHx6I",
        "outputId": "ce68b75e-63ad-4305-ecc8-07ad53af6da8"
      },
      "execution_count": null,
      "outputs": [
        {
          "output_type": "stream",
          "name": "stdout",
          "text": [
            "{1, 2, 3}\n"
          ]
        }
      ]
    },
    {
      "cell_type": "markdown",
      "source": [
        "#19-Write a code to find the union of two sets {1, 2, 3} and {3, 4, 5}."
      ],
      "metadata": {
        "id": "WP-y6l8OIFsB"
      }
    },
    {
      "cell_type": "code",
      "source": [
        "set1 = {1, 2, 3}\n",
        "set2 = {3, 4, 5}\n",
        "union_set = set1.union(set2)\n",
        "print(union_set)"
      ],
      "metadata": {
        "colab": {
          "base_uri": "https://localhost:8080/"
        },
        "id": "Zaav5Mr4ILFw",
        "outputId": "ecc848e8-ec28-4021-de86-ef5d2a24f9fc"
      },
      "execution_count": null,
      "outputs": [
        {
          "output_type": "stream",
          "name": "stdout",
          "text": [
            "{1, 2, 3, 4, 5}\n"
          ]
        }
      ]
    },
    {
      "cell_type": "markdown",
      "source": [
        "#20- Write a code to find the intersection of two sets {1, 2, 3} and {2, 3, 4}."
      ],
      "metadata": {
        "id": "174k7B32IlN3"
      }
    },
    {
      "cell_type": "code",
      "source": [
        "set1 = {1, 2, 3}\n",
        "set2 = {2, 3, 4}\n",
        "intersection_set = set1.intersection(set2)\n",
        "print(intersection_set)"
      ],
      "metadata": {
        "colab": {
          "base_uri": "https://localhost:8080/"
        },
        "id": "ZfAHtYPgIszL",
        "outputId": "03871452-9f3c-4f6d-ad05-36009d6ad40d"
      },
      "execution_count": null,
      "outputs": [
        {
          "output_type": "stream",
          "name": "stdout",
          "text": [
            "{2, 3}\n"
          ]
        }
      ]
    },
    {
      "cell_type": "markdown",
      "source": [
        "#21-Write a code to create a dictionary with the keys \"name\", \"age\", and \"city\", and print it"
      ],
      "metadata": {
        "id": "We4_3WXyTlNS"
      }
    },
    {
      "cell_type": "code",
      "source": [
        "my_dict = {\"name\": \"Alice\",\"age\": 25,\"city\": \"New York\"}\n",
        "print(my_dict)"
      ],
      "metadata": {
        "colab": {
          "base_uri": "https://localhost:8080/"
        },
        "id": "gixJx5wWTs6d",
        "outputId": "1b971a77-cf6b-4e4b-f76a-e5fad83befe2"
      },
      "execution_count": null,
      "outputs": [
        {
          "output_type": "stream",
          "name": "stdout",
          "text": [
            "{'name': 'Alice', 'age': 25, 'city': 'New York'}\n"
          ]
        }
      ]
    },
    {
      "cell_type": "markdown",
      "source": [
        "#22-Write a code to add a new key-value pair \"country\": \"USA\" to the dictionary {'name': 'John', 'age': 25}"
      ],
      "metadata": {
        "id": "KFX-1II5UQIO"
      }
    },
    {
      "cell_type": "code",
      "source": [
        "my_dict = {'name': 'John', 'age': 25}\n",
        "my_dict['country'] = 'USA'\n",
        "print(my_dict)"
      ],
      "metadata": {
        "colab": {
          "base_uri": "https://localhost:8080/"
        },
        "id": "s8me9OsaUVqR",
        "outputId": "ee54d536-cc83-4292-b0d7-4b54049826ca"
      },
      "execution_count": null,
      "outputs": [
        {
          "output_type": "stream",
          "name": "stdout",
          "text": [
            "{'name': 'John', 'age': 25, 'country': 'USA'}\n"
          ]
        }
      ]
    },
    {
      "cell_type": "markdown",
      "source": [
        "#23- Write a code to access the value associated with the key \"name\" in the dictionary {'name': 'Alice', 'age': 30}"
      ],
      "metadata": {
        "id": "73Mg3qlEUnXa"
      }
    },
    {
      "cell_type": "code",
      "source": [
        "my_dict = {'name': 'Alice', 'age': 30}\n",
        "name_value = my_dict['name']\n",
        "print(name_value)\n"
      ],
      "metadata": {
        "colab": {
          "base_uri": "https://localhost:8080/"
        },
        "id": "0OrX5TcPUvzt",
        "outputId": "1ca12c3d-e44a-4459-dbf8-807747a51763"
      },
      "execution_count": null,
      "outputs": [
        {
          "output_type": "stream",
          "name": "stdout",
          "text": [
            "Alice\n"
          ]
        }
      ]
    },
    {
      "cell_type": "markdown",
      "source": [
        "#24-. Write a code to remove the key \"age\" from the dictionary {'name': 'Bob', 'age': 22, 'city': 'New York'}."
      ],
      "metadata": {
        "id": "fdK38_0_VoO7"
      }
    },
    {
      "cell_type": "code",
      "source": [
        "my_dict = {'name': 'Bob', 'age': 22, 'city': 'New York'}\n",
        "removed_value = my_dict.pop('age')\n",
        "print(my_dict)"
      ],
      "metadata": {
        "colab": {
          "base_uri": "https://localhost:8080/"
        },
        "id": "GX-ViHoqYMjk",
        "outputId": "c5954a95-4e9b-438c-9ba5-646d4176c02a"
      },
      "execution_count": null,
      "outputs": [
        {
          "output_type": "stream",
          "name": "stdout",
          "text": [
            "{'name': 'Bob', 'city': 'New York'}\n"
          ]
        }
      ]
    },
    {
      "cell_type": "markdown",
      "source": [
        "#25-Write a code to check if the key \"city\" exists in the dictionary {'name': 'Alice', 'city': 'Paris'}."
      ],
      "metadata": {
        "id": "iafbnW3hYffG"
      }
    },
    {
      "cell_type": "code",
      "source": [
        "my_dict = {'name': 'Alice', 'city': 'Paris'}\n",
        "print('city' in my_dict)"
      ],
      "metadata": {
        "colab": {
          "base_uri": "https://localhost:8080/"
        },
        "id": "_O4jW5nZY56A",
        "outputId": "3dbc96f7-6d0c-4be3-c3d3-5ee3605df601"
      },
      "execution_count": null,
      "outputs": [
        {
          "output_type": "stream",
          "name": "stdout",
          "text": [
            "True\n"
          ]
        }
      ]
    },
    {
      "cell_type": "markdown",
      "source": [
        "#26-Write a code to create a list, a tuple, and a dictionary, and print them all."
      ],
      "metadata": {
        "id": "Igqa3zMQbd8p"
      }
    },
    {
      "cell_type": "code",
      "source": [
        "my_list = [1, 2, 3, 4, 5]\n",
        "my_tuple = ('apple', 'banana', 'cherry')\n",
        "my_dict = {'name': 'Alice', 'age': 25, 'city': 'New York'}\n",
        "print(\"List:\", my_list)\n",
        "print(\"Tuple:\", my_tuple)\n",
        "print(\"Dictionary:\", my_dict)"
      ],
      "metadata": {
        "colab": {
          "base_uri": "https://localhost:8080/"
        },
        "id": "XeqcIGW2bxZ8",
        "outputId": "fa63c5ba-22f4-48b1-d2c5-08bca027b28c"
      },
      "execution_count": null,
      "outputs": [
        {
          "output_type": "stream",
          "name": "stdout",
          "text": [
            "List: [1, 2, 3, 4, 5]\n",
            "Tuple: ('apple', 'banana', 'cherry')\n",
            "Dictionary: {'name': 'Alice', 'age': 25, 'city': 'New York'}\n"
          ]
        }
      ]
    },
    {
      "cell_type": "markdown",
      "source": [
        "#27-Write a code to create a list of 5 random numbers between 1 and 100, sort it in ascending order, and print the result.(replaced) [use list1]"
      ],
      "metadata": {
        "id": "822fQmrDcHDE"
      }
    },
    {
      "cell_type": "code",
      "source": [
        "import random\n",
        "list1 = sorted(random.sample(range(1, 101), 5))\n",
        "print(list1)"
      ],
      "metadata": {
        "colab": {
          "base_uri": "https://localhost:8080/"
        },
        "id": "VmN0vrFpe-I5",
        "outputId": "dbcbab6b-0f86-453b-d766-585bccad7471"
      },
      "execution_count": null,
      "outputs": [
        {
          "output_type": "stream",
          "name": "stdout",
          "text": [
            "[12, 39, 48, 57, 66]\n"
          ]
        }
      ]
    },
    {
      "cell_type": "markdown",
      "source": [
        "#28-Write a code to create a list with strings and print the element at the third index."
      ],
      "metadata": {
        "id": "Fk0lsFu6fOmP"
      }
    },
    {
      "cell_type": "code",
      "source": [
        "list1 = [\"apple\", \"banana\", \"cherry\", \"date\", \"elderberry\"]\n",
        "print(list1[3])"
      ],
      "metadata": {
        "colab": {
          "base_uri": "https://localhost:8080/"
        },
        "id": "2_QRT7_9fat7",
        "outputId": "860f4f28-f0bb-4cf9-bc73-486277918fbc"
      },
      "execution_count": null,
      "outputs": [
        {
          "output_type": "stream",
          "name": "stdout",
          "text": [
            "date\n"
          ]
        }
      ]
    },
    {
      "cell_type": "markdown",
      "source": [
        "#29-Write a code to combine two dictionaries into one and print the result."
      ],
      "metadata": {
        "id": "8hRoW8Aqf0oc"
      }
    },
    {
      "cell_type": "code",
      "source": [
        "dict1 = {'a': 1, 'b': 2}\n",
        "dict2 = {'c': 3, 'd': 4}\n",
        "combined_dict = {**dict1, **dict2}\n",
        "print(combined_dict)"
      ],
      "metadata": {
        "colab": {
          "base_uri": "https://localhost:8080/"
        },
        "id": "7Sl4K57af7Jk",
        "outputId": "e1ef603e-b9f8-47a2-91d8-56770d6f53b1"
      },
      "execution_count": null,
      "outputs": [
        {
          "output_type": "stream",
          "name": "stdout",
          "text": [
            "{'a': 1, 'b': 2, 'c': 3, 'd': 4}\n"
          ]
        }
      ]
    },
    {
      "cell_type": "markdown",
      "source": [
        "#30-Write a code to convert a list of strings into a set."
      ],
      "metadata": {
        "id": "ZvhlBIZugZxW"
      }
    },
    {
      "cell_type": "code",
      "source": [
        "list1 = [\"apple\", \"banana\", \"cherry\", \"apple\", \"banana\"]\n",
        "set1 = set(list1)\n",
        "print(set1)"
      ],
      "metadata": {
        "colab": {
          "base_uri": "https://localhost:8080/"
        },
        "id": "AddOSba8gqdG",
        "outputId": "62e23b48-945f-41f5-f346-04d2c2c34db2"
      },
      "execution_count": null,
      "outputs": [
        {
          "output_type": "stream",
          "name": "stdout",
          "text": [
            "{'banana', 'apple', 'cherry'}\n"
          ]
        }
      ]
    }
  ]
}